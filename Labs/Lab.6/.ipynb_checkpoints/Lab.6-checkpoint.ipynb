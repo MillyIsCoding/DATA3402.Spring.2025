{
 "cells": [
  {
   "cell_type": "markdown",
   "metadata": {},
   "source": [
    "# Lab 6"
   ]
  },
  {
   "cell_type": "markdown",
   "metadata": {},
   "source": [
    "You are tasked with evaluating card counting strategies for black jack. In order to do so, you will use object oriented programming to create a playable casino style black jack game where a computer dealer plays against $n$ computer players and possibily one human player. If you don't know the rules of blackjack or card counting, please google it. \n",
    "\n",
    "A few requirements:\n",
    "* The game should utilize multiple 52-card decks. Typically the game is played with 6 decks.\n",
    "* Players should have chips.\n",
    "* Dealer's actions are predefined by rules of the game (typically hit on 16). \n",
    "* The players should be aware of all shown cards so that they can count cards.\n",
    "* Each player could have a different strategy.\n",
    "* The system should allow you to play large numbers of games, study the outcomes, and compare average winnings per hand rate for different strategies."
   ]
  },
  {
   "cell_type": "markdown",
   "metadata": {},
   "source": [
    "1. Begin by creating a classes to represent cards and decks. The deck should support more than one 52-card set. The deck should allow you to shuffle and draw cards. Include a \"plastic\" card, placed randomly in the deck. Later, when the plastic card is dealt, shuffle the cards before the next deal."
   ]
  },
  {
   "cell_type": "markdown",
   "metadata": {},
   "source": [
    "2. Now design your game on a UML diagram. You may want to create classes to represent, players, a hand, and/or the game. As you work through the lab, update your UML diagram. At the end of the lab, submit your diagram (as pdf file) along with your notebook. "
   ]
  },
  {
   "cell_type": "markdown",
   "metadata": {},
   "source": [
    "3. Begin with implementing the skeleton (ie define data members and methods/functions, but do not code the logic) of the classes in your UML diagram."
   ]
  },
  {
   "cell_type": "markdown",
   "metadata": {},
   "source": [
    "4. Complete the implementation by coding the logic of all functions. For now, just implement the dealer player and human player."
   ]
  },
  {
   "cell_type": "markdown",
   "metadata": {},
   "source": [
    "5.  Test. Demonstrate game play. For example, create a game of several dealer players and show that the game is functional through several rounds."
   ]
  },
  {
   "cell_type": "markdown",
   "metadata": {},
   "source": [
    "6. Implement a new player with the following strategy:\n",
    "\n",
    "    * Assign each card a value: \n",
    "        * Cards 2 to 6 are +1 \n",
    "        * Cards 7 to 9 are 0 \n",
    "        * Cards 10 through Ace are -1\n",
    "    * Compute the sum of the values for all cards seen so far.\n",
    "    * Hit if sum is very negative, stay if sum is very positive. Select a threshold for hit/stay, e.g. 0 or -2.  "
   ]
  },
  {
   "cell_type": "markdown",
   "metadata": {},
   "source": [
    "7. Create a test scenario where one player, using the above strategy, is playing with a dealer and 3 other players that follow the dealer's strategy. Each player starts with same number of chips. Play 50 rounds (or until the strategy player is out of money). Compute the strategy player's winnings. You may remove unnecessary printouts from your code (perhaps implement a verbose/quiet mode) to reduce the output."
   ]
  },
  {
   "cell_type": "markdown",
   "metadata": {},
   "source": [
    "8. Create a loop that runs 100 games of 50 rounds, as setup in previous question, and store the strategy player's chips at the end of the game (aka \"winnings\") in a list. Histogram the winnings. What is the average winnings per round? What is the standard deviation. What is the probabilty of net winning or lossing after 50 rounds?\n"
   ]
  },
  {
   "cell_type": "markdown",
   "metadata": {},
   "source": [
    "9. Repeat previous questions scanning the value of the threshold. Try at least 5 different threshold values. Can you find an optimal value?"
   ]
  },
  {
   "cell_type": "markdown",
   "metadata": {},
   "source": [
    "10. Create a new strategy based on web searches or your own ideas. Demonstrate that the new strategy will result in increased or decreased winnings. "
   ]
  },
  {
   "cell_type": "markdown",
   "metadata": {},
   "source": [
    "***Question 1***"
   ]
  },
  {
   "cell_type": "code",
   "execution_count": 30,
   "metadata": {},
   "outputs": [],
   "source": [
    "import random\n",
    "class Card:\n",
    "    def __init__(self,num,suit):\n",
    "        self.suit = suit\n",
    "        self.num = num\n",
    "        \n",
    "    def getCard(self):\n",
    "        return (self.suit,self.num)\n",
    "        \n",
    "    def __repr__(self):\n",
    "        return f\"{self.num} of {self.suit}\"\n",
    "class Deck:\n",
    "    suits = ['Clubs','Diamond','Hearts','Spades']\n",
    "    face = ['Jack','Queen','King']\n",
    "    def __init__(self,decks=1):\n",
    "        self.decks = decks\n",
    "        self.deck = self.make_deck()\n",
    "        \n",
    "    def make_deck(self):\n",
    "        deck = []\n",
    "        for suit in Deck.suits:\n",
    "            deck.append(Card(\"Ace\",suit)) ##To Keep Ace At The Top of List\n",
    "            deck.extend(Card(i,suit) for i in range(2,11))\n",
    "            deck.extend(Card(face,suit)for face in Deck.face)\n",
    "        deck.append(Card(\"Plasic\",\"Card\")) #Plastic Card at end of deck, will be randomly placed when deck is shuffled\n",
    "        \n",
    "        return deck * self.decks\n",
    "    \n",
    "    def viewDeck(self):\n",
    "        for card in self.deck:\n",
    "            print(card)\n",
    "\n",
    "    def shuffle(self,shuffles=4):\n",
    "        #Default 4 Shuffles\n",
    "        for _ in range(shuffles):\n",
    "            random.shuffle(self.deck)\n",
    "        \n",
    "    def drawCard(self):\n",
    "        card = self.deck[0] #Holds value of top card\n",
    "        if card == (\"Plastic\",\"Card\"):\n",
    "            self.deck.shuffle()\n",
    "            \n",
    "        self.deck.pop(0) #Removes card from deck\n",
    "        return card #returns card\n",
    "    def __repr__(self):\n",
    "        return f\"Deck With: {len(self.deck)} Cards\"  \n",
    "        "
   ]
  },
  {
   "cell_type": "code",
   "execution_count": 16,
   "metadata": {},
   "outputs": [
    {
     "name": "stdout",
     "output_type": "stream",
     "text": [
      "Deck With: 53 Cards\n",
      "Hand: [Ace of Clubs, 2 of Clubs, 3 of Clubs]\n",
      "Deck With: 50 Cards\n"
     ]
    }
   ],
   "source": [
    "deck = Deck(1)\n",
    "print(deck)\n",
    "\n",
    "hand_size = 3\n",
    "hand = [deck.drawCard() for i in range(hand_size)]\n",
    "print(\"Hand:\", hand)\n",
    "\n",
    "print(deck)"
   ]
  },
  {
   "cell_type": "markdown",
   "metadata": {},
   "source": [
    "***Question 3*** -- Skeleton of UML"
   ]
  },
  {
   "cell_type": "code",
   "execution_count": null,
   "metadata": {},
   "outputs": [],
   "source": [
    "class Card:\n",
    "    def __init__(self,num,suit):\n",
    "        pass\n",
    "        \n",
    "    def getCard(self):\n",
    "        pass\n",
    "        \n",
    "    def __repr__(self):\n",
    "        pass\n",
    "\n",
    "class Deck:\n",
    "    suits = ['Clubs','Diamond','Hearts','Spades']\n",
    "    face = ['Jack','Queen','King']\n",
    "    def __init__(self,decks=1):\n",
    "        self.decks = decks\n",
    "        self.deck = self.make_deck()\n",
    "        \n",
    "    def make_deck(self):\n",
    "        pass\n",
    "    \n",
    "    def viewDeck(self):\n",
    "        pass\n",
    "\n",
    "    def shuffle(self,shuffles=4):\n",
    "        pass\n",
    "        \n",
    "    def drawCard(self):\n",
    "        pass\n",
    "    def __repr__(self):\n",
    "        pass \n",
    "        \n",
    "class Player:\n",
    "    def __init__(self, name, chips=100):\n",
    "        self.name = name\n",
    "        self.chips = chips\n",
    "        self.hand = []\n",
    "\n",
    "    def bet(self):\n",
    "        pass\n",
    "\n",
    "    def win(self, amount):\n",
    "        pass\n",
    "\n",
    "    def lose(self, amount):\n",
    "        pass\n",
    "\n",
    "class CountingPlayer(Player):\n",
    "    def __init__(self, name, chips=100):\n",
    "        super().__init__(name,chips) \n",
    "        self.count = 0\n",
    "    def update_count(self, card):\n",
    "        pass\n",
    "\n",
    "    def decide(self):\n",
    "        pass\n",
    "\n",
    "class Dealer(Player):\n",
    "    def decide(self):\n",
    "        pass  #hit or stay\n",
    "\n",
    "def simulate_round(players, deck):\n",
    "    pass\n",
    "\n",
    "def simulate_game():\n",
    "    pass"
   ]
  },
  {
   "cell_type": "markdown",
   "metadata": {},
   "source": [
    "***Question 4***"
   ]
  },
  {
   "cell_type": "code",
   "execution_count": 17,
   "metadata": {},
   "outputs": [],
   "source": [
    "class Player:\n",
    "    def __init__(self, name, chips=100):\n",
    "        self.name = name\n",
    "        self.chips = chips\n",
    "        self.hand = []\n",
    "\n",
    "    def bet(self,amount):\n",
    "        if amount > self.chips:\n",
    "            print(f\"{self.name} does not have enough chips to bet {amount}. Current chips: {self.chips}\")\n",
    "            return False\n",
    "        elif amount <= 0:\n",
    "            print(\"Bet amount must be greater than zero.\")\n",
    "            return False\n",
    "        else:\n",
    "            self.chips -= amount\n",
    "            print(f\"{self.name} bets {amount} chips.\")\n",
    "            return amount \n",
    "\n",
    "    def win(self, amount):\n",
    "        self.chips += amount\n",
    "        print(f\"{self.name} won {amount} chips\")\n",
    "\n",
    "    def lose(self, amount):\n",
    "        print(f\"{self.name} lost {amount} chips\") \n",
    "\n",
    "    def show_hand(self):\n",
    "        hand_str = \", \".join(str(card) for card in self.hand)\n",
    "        print(f\"{self.name}'s hand: {hand_str}\")\n",
    "\n",
    "    def reset_hand(self):\n",
    "        self.hand = []\n",
    "        \n",
    "class Dealer(Player):\n",
    "    def __init__(self):\n",
    "        super().__init__(\"Dealer\")\n",
    "        \n"
   ]
  },
  {
   "cell_type": "markdown",
   "metadata": {},
   "source": [
    "***Question 5***"
   ]
  },
  {
   "cell_type": "code",
   "execution_count": 37,
   "metadata": {},
   "outputs": [],
   "source": [
    "class Game:\n",
    "    def __init__(self, n):\n",
    "        self.deck = Deck(3)\n",
    "        self.deck.shuffle()\n",
    "        self.players = [Dealer() for _ in range(n)] + [Player(\"Human\")]\n",
    "\n",
    "    def deal(self):\n",
    "        for _ in range(2):\n",
    "            for p in self.players:\n",
    "                p.hand.append(self.deck.drawCard())\n",
    "\n",
    "    def play_round(self):\n",
    "        self.deal()\n",
    "        for p in self.players:\n",
    "            print(f\"{p.name}'s hand:\", p.hand)"
   ]
  },
  {
   "cell_type": "code",
   "execution_count": 38,
   "metadata": {},
   "outputs": [
    {
     "name": "stdout",
     "output_type": "stream",
     "text": [
      "Dealer's hand: [6 of Hearts, Jack of Diamond]\n",
      "Dealer's hand: [Queen of Hearts, King of Diamond]\n",
      "Dealer's hand: [Ace of Diamond, 3 of Hearts]\n",
      "Dealer's hand: [6 of Clubs, 3 of Spades]\n",
      "Dealer's hand: [King of Diamond, 4 of Spades]\n",
      "Human's hand: [10 of Diamond, Ace of Clubs]\n"
     ]
    }
   ],
   "source": [
    "game1 = Game(5)\n",
    "game1.play_round()"
   ]
  },
  {
   "cell_type": "markdown",
   "metadata": {},
   "source": [
    "***Question 6***"
   ]
  },
  {
   "cell_type": "code",
   "execution_count": 52,
   "metadata": {},
   "outputs": [],
   "source": [
    "class CountingPlayer(Player):\n",
    "    def __init__(self, name, chips=100):\n",
    "        super().__init__(name,chips) \n",
    "        self.count = 0\n",
    "    def update_count(self, card):\n",
    "        if card.num in [2, 3, 4, 5, 6]:\n",
    "            self.count += 1\n",
    "        elif card.num in [10, \"Jack\", \"Queen\", \"King\", \"Ace\"]:\n",
    "            self.count -= 1\n",
    "\n",
    "    def decide(self):\n",
    "        print(f\"{self.name}'s current card count: {self.count}\")\n",
    "        if self.count <= -2:\n",
    "            return \"hit\"\n",
    "        else:\n",
    "            return \"stay\""
   ]
  },
  {
   "cell_type": "code",
   "execution_count": 57,
   "metadata": {},
   "outputs": [
    {
     "name": "stdout",
     "output_type": "stream",
     "text": [
      "Counting Player's current card count: 0\n",
      "Decision: stay\n"
     ]
    }
   ],
   "source": [
    "player =  CountingPlayer(\"Counting Player\")\n",
    "cards = [Card( 2, 'Hearts'), Card( 9, 'Spades'), Card('Ace', 'Clubs')]\n",
    "\n",
    "for card in cards:\n",
    "    player.update_count(card)\n",
    "\n",
    "print(\"Decision:\", player.decide())"
   ]
  },
  {
   "cell_type": "code",
   "execution_count": 58,
   "metadata": {},
   "outputs": [
    {
     "name": "stdout",
     "output_type": "stream",
     "text": [
      "Counting Player's current card count: -1\n",
      "Decision: stay\n"
     ]
    }
   ],
   "source": [
    "player = CountingPlayer(\"Counting Player\")\n",
    "cards = [Card(1, 'Hearts'), Card(9, 'Spades'), Card('Ace', 'Clubs')]\n",
    "\n",
    "for i in cards:\n",
    "    player.update_count(i)\n",
    "\n",
    "print(\"Decision:\", player.decide())"
   ]
  },
  {
   "cell_type": "code",
   "execution_count": null,
   "metadata": {},
   "outputs": [],
   "source": []
  }
 ],
 "metadata": {
  "kernelspec": {
   "display_name": "Python 3 (ipykernel)",
   "language": "python",
   "name": "python3"
  },
  "language_info": {
   "codemirror_mode": {
    "name": "ipython",
    "version": 3
   },
   "file_extension": ".py",
   "mimetype": "text/x-python",
   "name": "python",
   "nbconvert_exporter": "python",
   "pygments_lexer": "ipython3",
   "version": "3.10.12"
  }
 },
 "nbformat": 4,
 "nbformat_minor": 4
}
