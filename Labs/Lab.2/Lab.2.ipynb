{
 "cells": [
  {
   "cell_type": "markdown",
   "metadata": {},
   "source": [
    "## Lab 2- Tic Tac Toe\n",
    "\n",
    "In this lab your will build a n x n Tic Tac Toe game. As you do the exercises, make sure your solutions work for any size Tic Tac Toe game. "
   ]
  },
  {
   "cell_type": "markdown",
   "metadata": {},
   "source": [
    "*Exercise 1:* Write a function that creates an n by n matrix (of list of lists) which will represent the state of a Tie Tac Toe game. Let 0, 1, and 2 represent empty, \"X\", and \"O\", respectively.\n"
   ]
  },
  {
   "cell_type": "code",
   "execution_count": 27,
   "metadata": {},
   "outputs": [],
   "source": [
    "P1 = 1\n",
    "P2 = 2\n",
    "empty = 0\n",
    "def createMatrix(n):\n",
    "    matrix = []\n",
    "    for row in range(n):\n",
    "        row = []\n",
    "        for col in range(n):\n",
    "            row.append(empty)\n",
    "        matrix.append(row)\n",
    "    return matrix\n",
    "        "
   ]
  },
  {
   "cell_type": "code",
   "execution_count": 2,
   "metadata": {},
   "outputs": [
    {
     "data": {
      "text/plain": [
       "[[0, 0, 0], [0, 0, 0], [0, 0, 0]]"
      ]
     },
     "execution_count": 2,
     "metadata": {},
     "output_type": "execute_result"
    }
   ],
   "source": [
    "createMatrix(3)"
   ]
  },
  {
   "cell_type": "markdown",
   "metadata": {},
   "source": [
    "*Exercise 2:* Write a function that takes 2 integers `n` and `m` as input and draws a `n` by `m` game board. For example the following is a 3x3 board:\n",
    "```\n",
    "   --- --- --- \n",
    "  |   |   |   | \n",
    "   --- --- ---  \n",
    "  |   |   |   | \n",
    "   --- --- ---  \n",
    "  |   |   |   | \n",
    "   --- --- --- \n",
    "   ```"
   ]
  },
  {
   "cell_type": "code",
   "execution_count": 3,
   "metadata": {},
   "outputs": [],
   "source": [
    "def drawBoard(n,m):\n",
    "    board = \"\"\n",
    "    for row in range(n):\n",
    "        board += \" ---\" *m + \"\\n\"\n",
    "        board += \"|   \" *m + \"|\\n\"\n",
    "    board += \" ---\" *m\n",
    "    print(board)\n",
    "            "
   ]
  },
  {
   "cell_type": "code",
   "execution_count": 4,
   "metadata": {},
   "outputs": [
    {
     "name": "stdout",
     "output_type": "stream",
     "text": [
      " --- --- ---\n",
      "|   |   |   |\n",
      " --- --- ---\n",
      "|   |   |   |\n",
      " --- --- ---\n",
      "|   |   |   |\n",
      " --- --- ---\n"
     ]
    }
   ],
   "source": [
    "drawBoard(3,3)"
   ]
  },
  {
   "cell_type": "markdown",
   "metadata": {},
   "source": [
    "*Exercise 3:* Modify exercise 2, so that it takes a matrix of the form from exercise 1 and draws a tic-tac-tie board with \"X\"s and \"O\"s.  "
   ]
  },
  {
   "cell_type": "code",
   "execution_count": 5,
   "metadata": {},
   "outputs": [],
   "source": [
    "def drawBoard(matrix):\n",
    "    board = \"\"\n",
    "    rows = len(matrix)\n",
    "    cols = len(matrix[0])\n",
    "    for row in matrix:\n",
    "        board += \" ---\" *cols + \"\\n\"\n",
    "        for val in row:\n",
    "            if val == 0:\n",
    "                board += \"|   \"\n",
    "            elif val == 1:\n",
    "                board += \"| X \"\n",
    "            elif val == 2:\n",
    "                board += \"| O \"\n",
    "        board += \"|\\n\"\n",
    "    board += \" ---\" *cols\n",
    "    print(board)"
   ]
  },
  {
   "cell_type": "code",
   "execution_count": 6,
   "metadata": {},
   "outputs": [
    {
     "name": "stdout",
     "output_type": "stream",
     "text": [
      " --- --- ---\n",
      "| O | O |   |\n",
      " --- --- ---\n",
      "| O | X |   |\n",
      " --- --- ---\n",
      "| O | X | X |\n",
      " --- --- ---\n"
     ]
    }
   ],
   "source": [
    "winner_is_2 = [[2, 2, 0],\n",
    "\t[2, 1, 0],\n",
    "\t[2, 1, 1]]\n",
    "drawBoard(winner_is_2)"
   ]
  },
  {
   "cell_type": "markdown",
   "metadata": {},
   "source": [
    "*Exercise 4:* Write a function that takes a `n` by `n` matrix representing a tic-tac-toe game, and returns -1, 0, 1, or 2 indicating the game is incomplete, the game is a draw, player 1 has won, or player 2 has one, respectively. Here are some example inputs you can use to test your code:"
   ]
  },
  {
   "cell_type": "code",
   "execution_count": 7,
   "metadata": {},
   "outputs": [],
   "source": [
    "def gameWinner(matrix):\n",
    "    rows = len(matrix)\n",
    "    cols = len(matrix[0])\n",
    "    #Row Based Win\n",
    "    for row in matrix:\n",
    "        if row[0] != empty:\n",
    "            if all(val == row[0] for val in row):\n",
    "                if row[0] == P1:\n",
    "                    print(\"Player 1 is Winner\")\n",
    "                    return 1\n",
    "                elif row[0] == P2:\n",
    "                    print(\"Player 2 is Winner \")\n",
    "                    return 2\n",
    "                    \n",
    "    #Column Based Win\n",
    "    for col in range(cols):\n",
    "        if matrix[0][col] != empty:\n",
    "            if all(matrix[row][col] == matrix[0][col] for row in range(rows)):\n",
    "                if matrix[0][col] == P1:\n",
    "                    print(\"Player 1 is Winner\")\n",
    "                    return 1\n",
    "                elif matrix[0][col] == P2:\n",
    "                    print(\"Player 2 is Winner \")\n",
    "                    return 2\n",
    "                        \n",
    "    #DownWard Diagonal Win \n",
    "    if matrix[0][0] != empty:\n",
    "        if all(matrix[i][i] == matrix[0][0] for i in range(rows)):\n",
    "            if matrix[0][0] == P1:\n",
    "                    print(\"Player 1 is Winner\")\n",
    "                    return 1\n",
    "            elif matrix[0][0] == P2:\n",
    "                print(\"Player 2 is Winner \")\n",
    "                return 2\n",
    "        \n",
    "    #UpWard Diagonal Win\n",
    "    if matrix[rows-1][0] != empty:\n",
    "        if all(matrix[rows-1-i][i] == matrix[rows-1][0] for i in range(rows)):\n",
    "            if matrix[rows-1][0] == P1:\n",
    "                    print(\"Player 1 is Winner\")\n",
    "                    return 1\n",
    "            elif matrix[rows-1][0] == P2:\n",
    "                print(\"Player 2 is Winner \")\n",
    "                return 2\n",
    "        \n",
    "    #Incomplete Game\n",
    "    for row in matrix:\n",
    "        for col in row:\n",
    "            if col == empty:\n",
    "                print(\"Game Imcomplete\")\n",
    "                return -1\n",
    "        #Game Draw\n",
    "    print(\"Draw\")\n",
    "    return 0\n",
    "    "
   ]
  },
  {
   "cell_type": "code",
   "execution_count": 10,
   "metadata": {},
   "outputs": [
    {
     "name": "stdout",
     "output_type": "stream",
     "text": [
      "Player 2 is Winner \n",
      "Player 1 is Winner\n",
      "Player 1 is Winner\n",
      "Game Imcomplete\n",
      "Game Imcomplete\n",
      "Draw\n"
     ]
    },
    {
     "data": {
      "text/plain": [
       "0"
      ]
     },
     "execution_count": 10,
     "metadata": {},
     "output_type": "execute_result"
    }
   ],
   "source": [
    "gameDraw = [\n",
    "    [1,2,1],\n",
    "    [1,2,1],\n",
    "    [2,1,2]\n",
    "]\n",
    "gameWinner(winner_is_2)\n",
    "gameWinner(winner_is_1)\n",
    "gameWinner(winner_is_also_1)\n",
    "gameWinner(no_winner)\n",
    "gameWinner(also_no_winner)\n",
    "gameWinner(gameDraw)"
   ]
  },
  {
   "cell_type": "code",
   "execution_count": 9,
   "metadata": {},
   "outputs": [],
   "source": [
    "winner_is_2 = [[2, 2, 0],\n",
    "\t[2, 1, 0],\n",
    "\t[2, 1, 1]]\n",
    "\n",
    "winner_is_1 = [[1, 2, 0],\n",
    "\t[2, 1, 0],\n",
    "\t[2, 1, 1]]\n",
    "\n",
    "winner_is_also_1 = [[0, 1, 0],\n",
    "\t[2, 1, 0],\n",
    "\t[2, 1, 1]]\n",
    "\n",
    "no_winner = [[1, 2, 0],\n",
    "\t[2, 1, 0],\n",
    "\t[2, 1, 2]]\n",
    "\n",
    "also_no_winner = [[1, 2, 0],\n",
    "\t[2, 1, 0],\n",
    "\t[2, 1, 0]]"
   ]
  },
  {
   "cell_type": "markdown",
   "metadata": {},
   "source": [
    "*Exercise 5:* Write a function that takes a game board, player number, and `(x,y)` coordinates and places \"X\" or \"O\" in the correct location of the game board. Make sure that you only allow filling previously empty locations. Return `True` or `False` to indicate successful placement of \"X\" or \"O\"."
   ]
  },
  {
   "cell_type": "code",
   "execution_count": 11,
   "metadata": {},
   "outputs": [],
   "source": [
    "def print_message(message,verbose=True):\n",
    "    if verbose:\n",
    "        print(message)\n",
    "def dropPlayer(board,player,location,verbose=True):\n",
    "    x,y = location\n",
    "    #Check if Location is Valid\n",
    "    if x < 0 or x >= len(board) or y < 0 or y >= len(board[0]):\n",
    "        print_message(\"Out of Board Range\")\n",
    "        return False\n",
    "    #Check if board spot is empty\n",
    "    if not board[x][y] == empty:\n",
    "        print_message(\"Spot Not Avaliable\")\n",
    "        drawBoard(board)\n",
    "        return False\n",
    "    else:\n",
    "        print_message(\"Spot Avaliable: Droping Player\")\n",
    "        board[x][y] = player\n",
    "        drawBoard(board)\n",
    "        return True\n",
    "    \n",
    "    "
   ]
  },
  {
   "cell_type": "code",
   "execution_count": 12,
   "metadata": {},
   "outputs": [
    {
     "name": "stdout",
     "output_type": "stream",
     "text": [
      " --- --- ---\n",
      "|   |   |   |\n",
      " --- --- ---\n",
      "|   |   |   |\n",
      " --- --- ---\n",
      "|   |   |   |\n",
      " --- --- ---\n",
      "Out of Board Range\n",
      "Spot Avaliable: Droping Player\n",
      " --- --- ---\n",
      "| O |   |   |\n",
      " --- --- ---\n",
      "|   |   |   |\n",
      " --- --- ---\n",
      "|   |   |   |\n",
      " --- --- ---\n"
     ]
    },
    {
     "data": {
      "text/plain": [
       "True"
      ]
     },
     "execution_count": 12,
     "metadata": {},
     "output_type": "execute_result"
    }
   ],
   "source": [
    "board = createMatrix(3)\n",
    "drawBoard(board)\n",
    "dropPlayer(board,P1,(5,5))\n",
    "dropPlayer(board,P2,(0,0))\n"
   ]
  },
  {
   "cell_type": "markdown",
   "metadata": {},
   "source": [
    "*Exercise 6:* Modify Exercise 3 to show column and row labels so that players can specify location using \"A2\" or \"C1\"."
   ]
  },
  {
   "cell_type": "code",
   "execution_count": 21,
   "metadata": {},
   "outputs": [],
   "source": [
    "#Defining Pieces\n",
    "P1_piece = \"X\"\n",
    "P2_piece = \"O\"\n",
    "empty_space = \" \"\n",
    "space_character= { P1: P1_piece,\n",
    "                   P2: P2_piece,\n",
    "                   empty: empty_space }\n",
    "\n",
    "#Updating Exercise 3\n",
    "def drawBoard(board):\n",
    "    size = len(board)\n",
    "    #Mapping Rows & Cols \n",
    "    rowNames = list(\"ABCDEFGHIJKLMNOPQRSTUVWXYZ\")\n",
    "    rowMap = dict(zip(rowNames,range(size)))\n",
    "    colNames = list(map(str, range(1,size+1)))\n",
    "    colMap=dict(zip(colNames,range(size)))\n",
    "\n",
    "    print(\"  \",end=\" \")\n",
    "    for j in range(size):\n",
    "        print(colNames[j], end=\"   \")\n",
    "    print()\n",
    "\n",
    "    laBoard = \"\"\n",
    "    for i in range(size):\n",
    "        laBoard += \" \"+\" ---\" *size + \"\\n\"\n",
    "        laBoard += rowNames[i]\n",
    "        for j in range(size):\n",
    "            if board[i][j] == 0:\n",
    "                laBoard += \"|   \"\n",
    "            elif board[i][j] == 1:\n",
    "                laBoard += \"| X \"\n",
    "            elif board[i][j] == 2:\n",
    "                laBoard += \"| O \"\n",
    "        laBoard += \"|\\n\"\n",
    "    laBoard += \" \" + \" ---\" *size\n",
    "    print(laBoard)\n",
    "\n",
    "            \n",
    "            \n",
    "    \n"
   ]
  },
  {
   "cell_type": "code",
   "execution_count": 22,
   "metadata": {},
   "outputs": [
    {
     "name": "stdout",
     "output_type": "stream",
     "text": [
      "   1   2   3   \n",
      "  --- --- ---\n",
      "A|   |   |   |\n",
      "  --- --- ---\n",
      "B|   |   |   |\n",
      "  --- --- ---\n",
      "C|   |   |   |\n",
      "  --- --- ---\n",
      "   1   2   3   \n",
      "  --- --- ---\n",
      "A| X | O |   |\n",
      "  --- --- ---\n",
      "B| O | X |   |\n",
      "  --- --- ---\n",
      "C| O | X | O |\n",
      "  --- --- ---\n"
     ]
    }
   ],
   "source": [
    "board = createMatrix(3)\n",
    "drawBoard(board)\n",
    "drawBoard(no_winner)"
   ]
  },
  {
   "cell_type": "markdown",
   "metadata": {},
   "source": [
    "*Exercise 7:* Write a function that takes a board, player number, and location specified as in exercise 6 and then calls exercise 5 to correctly modify the board.  "
   ]
  },
  {
   "cell_type": "code",
   "execution_count": 32,
   "metadata": {},
   "outputs": [],
   "source": [
    "def parseLocation(board,location):\n",
    "    size = len(board)\n",
    "    rowNames = list(\"ABCDEFGHIJKLMNOPQRSTUVWXYZ\")\n",
    "    rowMap = dict(zip(rowNames,range(size)))\n",
    "    colNames = list(map(str, range(1,size+1)))\n",
    "    colMap=dict(zip(colNames,range(size)))\n",
    "    if not isinstance(location,str):\n",
    "        print_message(\"Bad Input. Location must be string.\")\n",
    "        return False\n",
    "    \n",
    "    if len(location)!=2:\n",
    "        print_message(\"Bad Input. Location must be 2 characters.\")\n",
    "        return False\n",
    "        \n",
    "    row = location[0].upper()\n",
    "    col = location[1].upper()\n",
    "\n",
    "    if row not in rowMap:\n",
    "        print_message(\"Bad Row.\")\n",
    "        return False\n",
    "\n",
    "    if col not in colMap:\n",
    "        print_message(\"Bad Column.\")\n",
    "        return False\n",
    "    \n",
    "    return rowMap[row],colMap[col]\n",
    "def placePlayer(board,player,location):\n",
    "    loc = parseLocation(board,location)\n",
    "    if loc == False:\n",
    "        return False\n",
    "    else:\n",
    "        return dropPlayer(board, player,loc)\n",
    "        "
   ]
  },
  {
   "cell_type": "code",
   "execution_count": 34,
   "metadata": {},
   "outputs": [
    {
     "name": "stdout",
     "output_type": "stream",
     "text": [
      "   1   2   3   \n",
      "  --- --- ---\n",
      "A|   |   |   |\n",
      "  --- --- ---\n",
      "B|   |   |   |\n",
      "  --- --- ---\n",
      "C|   |   |   |\n",
      "  --- --- ---\n",
      "Spot Avaliable: Droping Player\n",
      "   1   2   3   \n",
      "  --- --- ---\n",
      "A|   | X |   |\n",
      "  --- --- ---\n",
      "B|   |   |   |\n",
      "  --- --- ---\n",
      "C|   |   |   |\n",
      "  --- --- ---\n",
      "Spot Avaliable: Droping Player\n",
      "   1   2   3   \n",
      "  --- --- ---\n",
      "A|   | X | O |\n",
      "  --- --- ---\n",
      "B|   |   |   |\n",
      "  --- --- ---\n",
      "C|   |   |   |\n",
      "  --- --- ---\n"
     ]
    },
    {
     "data": {
      "text/plain": [
       "True"
      ]
     },
     "execution_count": 34,
     "metadata": {},
     "output_type": "execute_result"
    }
   ],
   "source": [
    "board0 = createMatrix(3)\n",
    "drawBoard(board0)\n",
    "placePlayer(board0,P1,\"A2\")\n",
    "placePlayer(board0,P2,\"A3\")"
   ]
  },
  {
   "cell_type": "markdown",
   "metadata": {},
   "source": [
    "*Exercise 8:* Write a function is called with a board and player number, takes input from the player using python's `input`, and modifies the board using your function from exercise 7. Note that you should keep asking for input until you have gotten a valid input that results in a valid move."
   ]
  },
  {
   "cell_type": "code",
   "execution_count": 37,
   "metadata": {},
   "outputs": [],
   "source": [
    "def makeMove(board,player):\n",
    "    while True:\n",
    "        location = input(\"Enter A Spot: \")\n",
    "        result = parseLocation(board,location)\n",
    "        if result:\n",
    "            return placePlayer(board,player,location)\n",
    "        else:\n",
    "            print_message(\"Invalid Location\")"
   ]
  },
  {
   "cell_type": "code",
   "execution_count": 38,
   "metadata": {},
   "outputs": [
    {
     "name": "stdout",
     "output_type": "stream",
     "text": [
      "   1   2   3   \n",
      "  --- --- ---\n",
      "A|   |   |   |\n",
      "  --- --- ---\n",
      "B|   |   |   |\n",
      "  --- --- ---\n",
      "C|   |   |   |\n",
      "  --- --- ---\n"
     ]
    },
    {
     "name": "stdin",
     "output_type": "stream",
     "text": [
      "Enter A Spot:  d3\n"
     ]
    },
    {
     "name": "stdout",
     "output_type": "stream",
     "text": [
      "Bad Row.\n",
      "Invalid Location\n"
     ]
    },
    {
     "name": "stdin",
     "output_type": "stream",
     "text": [
      "Enter A Spot:  a3\n"
     ]
    },
    {
     "name": "stdout",
     "output_type": "stream",
     "text": [
      "Spot Avaliable: Droping Player\n",
      "   1   2   3   \n",
      "  --- --- ---\n",
      "A|   |   | X |\n",
      "  --- --- ---\n",
      "B|   |   |   |\n",
      "  --- --- ---\n",
      "C|   |   |   |\n",
      "  --- --- ---\n"
     ]
    },
    {
     "data": {
      "text/plain": [
       "True"
      ]
     },
     "execution_count": 38,
     "metadata": {},
     "output_type": "execute_result"
    }
   ],
   "source": [
    "board1 = createMatrix(3)\n",
    "drawBoard(board1)\n",
    "makeMove(board1,P1)"
   ]
  },
  {
   "cell_type": "markdown",
   "metadata": {},
   "source": [
    "*Exercise 9:* Use all of the previous exercises to implement a full tic-tac-toe game, where an appropriate board is drawn, 2 players are repeatedly asked for a location coordinates of where they wish to place a mark, and the game status is checked until a player wins or a draw occurs."
   ]
  },
  {
   "cell_type": "code",
   "execution_count": 50,
   "metadata": {},
   "outputs": [],
   "source": [
    "def startGame(boardSize):\n",
    "    board = createMatrix(boardSize)\n",
    "    player = P1\n",
    "    drawBoard(board)\n",
    "    while True:\n",
    "        if player == P1:\n",
    "            print_message(\"Player 1's Turn\")\n",
    "        else:\n",
    "            print_message(\"Player 2's Turn\")\n",
    "            \n",
    "        makeMove(board,player)\n",
    "        result = gameWinner(board)\n",
    "\n",
    "        if result != -1:\n",
    "            print(result)\n",
    "            break\n",
    "        player = P1 if player == P2 else P2   \n",
    "        \n",
    "        \n",
    "        "
   ]
  },
  {
   "cell_type": "code",
   "execution_count": 51,
   "metadata": {},
   "outputs": [
    {
     "name": "stdout",
     "output_type": "stream",
     "text": [
      "   1   2   3   \n",
      "  --- --- ---\n",
      "A|   |   |   |\n",
      "  --- --- ---\n",
      "B|   |   |   |\n",
      "  --- --- ---\n",
      "C|   |   |   |\n",
      "  --- --- ---\n",
      "Player 1's Turn\n"
     ]
    },
    {
     "name": "stdin",
     "output_type": "stream",
     "text": [
      "Enter A Spot:  a1\n"
     ]
    },
    {
     "name": "stdout",
     "output_type": "stream",
     "text": [
      "Spot Avaliable: Droping Player\n",
      "   1   2   3   \n",
      "  --- --- ---\n",
      "A| X |   |   |\n",
      "  --- --- ---\n",
      "B|   |   |   |\n",
      "  --- --- ---\n",
      "C|   |   |   |\n",
      "  --- --- ---\n",
      "Game Imcomplete\n",
      "Player 2's Turn\n"
     ]
    },
    {
     "name": "stdin",
     "output_type": "stream",
     "text": [
      "Enter A Spot:  a2\n"
     ]
    },
    {
     "name": "stdout",
     "output_type": "stream",
     "text": [
      "Spot Avaliable: Droping Player\n",
      "   1   2   3   \n",
      "  --- --- ---\n",
      "A| X | O |   |\n",
      "  --- --- ---\n",
      "B|   |   |   |\n",
      "  --- --- ---\n",
      "C|   |   |   |\n",
      "  --- --- ---\n",
      "Game Imcomplete\n",
      "Player 1's Turn\n"
     ]
    },
    {
     "name": "stdin",
     "output_type": "stream",
     "text": [
      "Enter A Spot:  b2\n"
     ]
    },
    {
     "name": "stdout",
     "output_type": "stream",
     "text": [
      "Spot Avaliable: Droping Player\n",
      "   1   2   3   \n",
      "  --- --- ---\n",
      "A| X | O |   |\n",
      "  --- --- ---\n",
      "B|   | X |   |\n",
      "  --- --- ---\n",
      "C|   |   |   |\n",
      "  --- --- ---\n",
      "Game Imcomplete\n",
      "Player 2's Turn\n"
     ]
    },
    {
     "name": "stdin",
     "output_type": "stream",
     "text": [
      "Enter A Spot:  b1\n"
     ]
    },
    {
     "name": "stdout",
     "output_type": "stream",
     "text": [
      "Spot Avaliable: Droping Player\n",
      "   1   2   3   \n",
      "  --- --- ---\n",
      "A| X | O |   |\n",
      "  --- --- ---\n",
      "B| O | X |   |\n",
      "  --- --- ---\n",
      "C|   |   |   |\n",
      "  --- --- ---\n",
      "Game Imcomplete\n",
      "Player 1's Turn\n"
     ]
    },
    {
     "name": "stdin",
     "output_type": "stream",
     "text": [
      "Enter A Spot:  c3\n"
     ]
    },
    {
     "name": "stdout",
     "output_type": "stream",
     "text": [
      "Spot Avaliable: Droping Player\n",
      "   1   2   3   \n",
      "  --- --- ---\n",
      "A| X | O |   |\n",
      "  --- --- ---\n",
      "B| O | X |   |\n",
      "  --- --- ---\n",
      "C|   |   | X |\n",
      "  --- --- ---\n",
      "Player 1 is Winner\n",
      "1\n"
     ]
    }
   ],
   "source": [
    "startGame(3)"
   ]
  },
  {
   "cell_type": "markdown",
   "metadata": {},
   "source": [
    "*Exercise 10:* Test that your game works for 5x5 Tic Tac Toe.  "
   ]
  },
  {
   "cell_type": "code",
   "execution_count": 52,
   "metadata": {},
   "outputs": [
    {
     "name": "stdout",
     "output_type": "stream",
     "text": [
      "   1   2   3   4   5   \n",
      "  --- --- --- --- ---\n",
      "A|   |   |   |   |   |\n",
      "  --- --- --- --- ---\n",
      "B|   |   |   |   |   |\n",
      "  --- --- --- --- ---\n",
      "C|   |   |   |   |   |\n",
      "  --- --- --- --- ---\n",
      "D|   |   |   |   |   |\n",
      "  --- --- --- --- ---\n",
      "E|   |   |   |   |   |\n",
      "  --- --- --- --- ---\n",
      "Player 1's Turn\n"
     ]
    },
    {
     "name": "stdin",
     "output_type": "stream",
     "text": [
      "Enter A Spot:  a2\n"
     ]
    },
    {
     "name": "stdout",
     "output_type": "stream",
     "text": [
      "Spot Avaliable: Droping Player\n",
      "   1   2   3   4   5   \n",
      "  --- --- --- --- ---\n",
      "A|   | X |   |   |   |\n",
      "  --- --- --- --- ---\n",
      "B|   |   |   |   |   |\n",
      "  --- --- --- --- ---\n",
      "C|   |   |   |   |   |\n",
      "  --- --- --- --- ---\n",
      "D|   |   |   |   |   |\n",
      "  --- --- --- --- ---\n",
      "E|   |   |   |   |   |\n",
      "  --- --- --- --- ---\n",
      "Game Imcomplete\n",
      "Player 2's Turn\n"
     ]
    },
    {
     "name": "stdin",
     "output_type": "stream",
     "text": [
      "Enter A Spot:  e5\n"
     ]
    },
    {
     "name": "stdout",
     "output_type": "stream",
     "text": [
      "Spot Avaliable: Droping Player\n",
      "   1   2   3   4   5   \n",
      "  --- --- --- --- ---\n",
      "A|   | X |   |   |   |\n",
      "  --- --- --- --- ---\n",
      "B|   |   |   |   |   |\n",
      "  --- --- --- --- ---\n",
      "C|   |   |   |   |   |\n",
      "  --- --- --- --- ---\n",
      "D|   |   |   |   |   |\n",
      "  --- --- --- --- ---\n",
      "E|   |   |   |   | O |\n",
      "  --- --- --- --- ---\n",
      "Game Imcomplete\n",
      "Player 1's Turn\n"
     ]
    },
    {
     "name": "stdin",
     "output_type": "stream",
     "text": [
      "Enter A Spot:  d3\n"
     ]
    },
    {
     "name": "stdout",
     "output_type": "stream",
     "text": [
      "Spot Avaliable: Droping Player\n",
      "   1   2   3   4   5   \n",
      "  --- --- --- --- ---\n",
      "A|   | X |   |   |   |\n",
      "  --- --- --- --- ---\n",
      "B|   |   |   |   |   |\n",
      "  --- --- --- --- ---\n",
      "C|   |   |   |   |   |\n",
      "  --- --- --- --- ---\n",
      "D|   |   | X |   |   |\n",
      "  --- --- --- --- ---\n",
      "E|   |   |   |   | O |\n",
      "  --- --- --- --- ---\n",
      "Game Imcomplete\n",
      "Player 2's Turn\n"
     ]
    },
    {
     "name": "stdin",
     "output_type": "stream",
     "text": [
      "Enter A Spot:  c4\n"
     ]
    },
    {
     "name": "stdout",
     "output_type": "stream",
     "text": [
      "Spot Avaliable: Droping Player\n",
      "   1   2   3   4   5   \n",
      "  --- --- --- --- ---\n",
      "A|   | X |   |   |   |\n",
      "  --- --- --- --- ---\n",
      "B|   |   |   |   |   |\n",
      "  --- --- --- --- ---\n",
      "C|   |   |   | O |   |\n",
      "  --- --- --- --- ---\n",
      "D|   |   | X |   |   |\n",
      "  --- --- --- --- ---\n",
      "E|   |   |   |   | O |\n",
      "  --- --- --- --- ---\n",
      "Game Imcomplete\n",
      "Player 1's Turn\n"
     ]
    },
    {
     "name": "stdin",
     "output_type": "stream",
     "text": [
      "Enter A Spot:  b2\n"
     ]
    },
    {
     "name": "stdout",
     "output_type": "stream",
     "text": [
      "Spot Avaliable: Droping Player\n",
      "   1   2   3   4   5   \n",
      "  --- --- --- --- ---\n",
      "A|   | X |   |   |   |\n",
      "  --- --- --- --- ---\n",
      "B|   | X |   |   |   |\n",
      "  --- --- --- --- ---\n",
      "C|   |   |   | O |   |\n",
      "  --- --- --- --- ---\n",
      "D|   |   | X |   |   |\n",
      "  --- --- --- --- ---\n",
      "E|   |   |   |   | O |\n",
      "  --- --- --- --- ---\n",
      "Game Imcomplete\n",
      "Player 2's Turn\n"
     ]
    },
    {
     "name": "stdin",
     "output_type": "stream",
     "text": [
      "Enter A Spot:  a1\n"
     ]
    },
    {
     "name": "stdout",
     "output_type": "stream",
     "text": [
      "Spot Avaliable: Droping Player\n",
      "   1   2   3   4   5   \n",
      "  --- --- --- --- ---\n",
      "A| O | X |   |   |   |\n",
      "  --- --- --- --- ---\n",
      "B|   | X |   |   |   |\n",
      "  --- --- --- --- ---\n",
      "C|   |   |   | O |   |\n",
      "  --- --- --- --- ---\n",
      "D|   |   | X |   |   |\n",
      "  --- --- --- --- ---\n",
      "E|   |   |   |   | O |\n",
      "  --- --- --- --- ---\n",
      "Game Imcomplete\n",
      "Player 1's Turn\n"
     ]
    },
    {
     "name": "stdin",
     "output_type": "stream",
     "text": [
      "Enter A Spot:  b6\n"
     ]
    },
    {
     "name": "stdout",
     "output_type": "stream",
     "text": [
      "Bad Column.\n",
      "Invalid Location\n"
     ]
    },
    {
     "name": "stdin",
     "output_type": "stream",
     "text": [
      "Enter A Spot:  b3\n"
     ]
    },
    {
     "name": "stdout",
     "output_type": "stream",
     "text": [
      "Spot Avaliable: Droping Player\n",
      "   1   2   3   4   5   \n",
      "  --- --- --- --- ---\n",
      "A| O | X |   |   |   |\n",
      "  --- --- --- --- ---\n",
      "B|   | X | X |   |   |\n",
      "  --- --- --- --- ---\n",
      "C|   |   |   | O |   |\n",
      "  --- --- --- --- ---\n",
      "D|   |   | X |   |   |\n",
      "  --- --- --- --- ---\n",
      "E|   |   |   |   | O |\n",
      "  --- --- --- --- ---\n",
      "Game Imcomplete\n",
      "Player 2's Turn\n"
     ]
    },
    {
     "name": "stdin",
     "output_type": "stream",
     "text": [
      "Enter A Spot:  b1\n"
     ]
    },
    {
     "name": "stdout",
     "output_type": "stream",
     "text": [
      "Spot Avaliable: Droping Player\n",
      "   1   2   3   4   5   \n",
      "  --- --- --- --- ---\n",
      "A| O | X |   |   |   |\n",
      "  --- --- --- --- ---\n",
      "B| O | X | X |   |   |\n",
      "  --- --- --- --- ---\n",
      "C|   |   |   | O |   |\n",
      "  --- --- --- --- ---\n",
      "D|   |   | X |   |   |\n",
      "  --- --- --- --- ---\n",
      "E|   |   |   |   | O |\n",
      "  --- --- --- --- ---\n",
      "Game Imcomplete\n",
      "Player 1's Turn\n"
     ]
    },
    {
     "name": "stdin",
     "output_type": "stream",
     "text": [
      "Enter A Spot:  a4\n"
     ]
    },
    {
     "name": "stdout",
     "output_type": "stream",
     "text": [
      "Spot Avaliable: Droping Player\n",
      "   1   2   3   4   5   \n",
      "  --- --- --- --- ---\n",
      "A| O | X |   | X |   |\n",
      "  --- --- --- --- ---\n",
      "B| O | X | X |   |   |\n",
      "  --- --- --- --- ---\n",
      "C|   |   |   | O |   |\n",
      "  --- --- --- --- ---\n",
      "D|   |   | X |   |   |\n",
      "  --- --- --- --- ---\n",
      "E|   |   |   |   | O |\n",
      "  --- --- --- --- ---\n",
      "Game Imcomplete\n",
      "Player 2's Turn\n"
     ]
    },
    {
     "name": "stdin",
     "output_type": "stream",
     "text": [
      "Enter A Spot:  a3\n"
     ]
    },
    {
     "name": "stdout",
     "output_type": "stream",
     "text": [
      "Spot Avaliable: Droping Player\n",
      "   1   2   3   4   5   \n",
      "  --- --- --- --- ---\n",
      "A| O | X | O | X |   |\n",
      "  --- --- --- --- ---\n",
      "B| O | X | X |   |   |\n",
      "  --- --- --- --- ---\n",
      "C|   |   |   | O |   |\n",
      "  --- --- --- --- ---\n",
      "D|   |   | X |   |   |\n",
      "  --- --- --- --- ---\n",
      "E|   |   |   |   | O |\n",
      "  --- --- --- --- ---\n",
      "Game Imcomplete\n",
      "Player 1's Turn\n"
     ]
    },
    {
     "name": "stdin",
     "output_type": "stream",
     "text": [
      "Enter A Spot:  d3\n"
     ]
    },
    {
     "name": "stdout",
     "output_type": "stream",
     "text": [
      "Spot Not Avaliable\n",
      "   1   2   3   4   5   \n",
      "  --- --- --- --- ---\n",
      "A| O | X | O | X |   |\n",
      "  --- --- --- --- ---\n",
      "B| O | X | X |   |   |\n",
      "  --- --- --- --- ---\n",
      "C|   |   |   | O |   |\n",
      "  --- --- --- --- ---\n",
      "D|   |   | X |   |   |\n",
      "  --- --- --- --- ---\n",
      "E|   |   |   |   | O |\n",
      "  --- --- --- --- ---\n",
      "Game Imcomplete\n",
      "Player 2's Turn\n"
     ]
    },
    {
     "name": "stdin",
     "output_type": "stream",
     "text": [
      "Enter A Spot:  a5\n"
     ]
    },
    {
     "name": "stdout",
     "output_type": "stream",
     "text": [
      "Spot Avaliable: Droping Player\n",
      "   1   2   3   4   5   \n",
      "  --- --- --- --- ---\n",
      "A| O | X | O | X | O |\n",
      "  --- --- --- --- ---\n",
      "B| O | X | X |   |   |\n",
      "  --- --- --- --- ---\n",
      "C|   |   |   | O |   |\n",
      "  --- --- --- --- ---\n",
      "D|   |   | X |   |   |\n",
      "  --- --- --- --- ---\n",
      "E|   |   |   |   | O |\n",
      "  --- --- --- --- ---\n",
      "Game Imcomplete\n",
      "Player 1's Turn\n"
     ]
    },
    {
     "name": "stdin",
     "output_type": "stream",
     "text": [
      "Enter A Spot:  b4\n"
     ]
    },
    {
     "name": "stdout",
     "output_type": "stream",
     "text": [
      "Spot Avaliable: Droping Player\n",
      "   1   2   3   4   5   \n",
      "  --- --- --- --- ---\n",
      "A| O | X | O | X | O |\n",
      "  --- --- --- --- ---\n",
      "B| O | X | X | X |   |\n",
      "  --- --- --- --- ---\n",
      "C|   |   |   | O |   |\n",
      "  --- --- --- --- ---\n",
      "D|   |   | X |   |   |\n",
      "  --- --- --- --- ---\n",
      "E|   |   |   |   | O |\n",
      "  --- --- --- --- ---\n",
      "Game Imcomplete\n",
      "Player 2's Turn\n"
     ]
    },
    {
     "name": "stdin",
     "output_type": "stream",
     "text": [
      "Enter A Spot:  b5\n"
     ]
    },
    {
     "name": "stdout",
     "output_type": "stream",
     "text": [
      "Spot Avaliable: Droping Player\n",
      "   1   2   3   4   5   \n",
      "  --- --- --- --- ---\n",
      "A| O | X | O | X | O |\n",
      "  --- --- --- --- ---\n",
      "B| O | X | X | X | O |\n",
      "  --- --- --- --- ---\n",
      "C|   |   |   | O |   |\n",
      "  --- --- --- --- ---\n",
      "D|   |   | X |   |   |\n",
      "  --- --- --- --- ---\n",
      "E|   |   |   |   | O |\n",
      "  --- --- --- --- ---\n",
      "Game Imcomplete\n",
      "Player 1's Turn\n"
     ]
    },
    {
     "name": "stdin",
     "output_type": "stream",
     "text": [
      "Enter A Spot:  c4\n"
     ]
    },
    {
     "name": "stdout",
     "output_type": "stream",
     "text": [
      "Spot Not Avaliable\n",
      "   1   2   3   4   5   \n",
      "  --- --- --- --- ---\n",
      "A| O | X | O | X | O |\n",
      "  --- --- --- --- ---\n",
      "B| O | X | X | X | O |\n",
      "  --- --- --- --- ---\n",
      "C|   |   |   | O |   |\n",
      "  --- --- --- --- ---\n",
      "D|   |   | X |   |   |\n",
      "  --- --- --- --- ---\n",
      "E|   |   |   |   | O |\n",
      "  --- --- --- --- ---\n",
      "Game Imcomplete\n",
      "Player 2's Turn\n"
     ]
    },
    {
     "name": "stdin",
     "output_type": "stream",
     "text": [
      "Enter A Spot:  e4\n"
     ]
    },
    {
     "name": "stdout",
     "output_type": "stream",
     "text": [
      "Spot Avaliable: Droping Player\n",
      "   1   2   3   4   5   \n",
      "  --- --- --- --- ---\n",
      "A| O | X | O | X | O |\n",
      "  --- --- --- --- ---\n",
      "B| O | X | X | X | O |\n",
      "  --- --- --- --- ---\n",
      "C|   |   |   | O |   |\n",
      "  --- --- --- --- ---\n",
      "D|   |   | X |   |   |\n",
      "  --- --- --- --- ---\n",
      "E|   |   |   | O | O |\n",
      "  --- --- --- --- ---\n",
      "Game Imcomplete\n",
      "Player 1's Turn\n"
     ]
    },
    {
     "name": "stdin",
     "output_type": "stream",
     "text": [
      "Enter A Spot:  c2\n"
     ]
    },
    {
     "name": "stdout",
     "output_type": "stream",
     "text": [
      "Spot Avaliable: Droping Player\n",
      "   1   2   3   4   5   \n",
      "  --- --- --- --- ---\n",
      "A| O | X | O | X | O |\n",
      "  --- --- --- --- ---\n",
      "B| O | X | X | X | O |\n",
      "  --- --- --- --- ---\n",
      "C|   | X |   | O |   |\n",
      "  --- --- --- --- ---\n",
      "D|   |   | X |   |   |\n",
      "  --- --- --- --- ---\n",
      "E|   |   |   | O | O |\n",
      "  --- --- --- --- ---\n",
      "Game Imcomplete\n",
      "Player 2's Turn\n"
     ]
    },
    {
     "name": "stdin",
     "output_type": "stream",
     "text": [
      "Enter A Spot:  c1\n"
     ]
    },
    {
     "name": "stdout",
     "output_type": "stream",
     "text": [
      "Spot Avaliable: Droping Player\n",
      "   1   2   3   4   5   \n",
      "  --- --- --- --- ---\n",
      "A| O | X | O | X | O |\n",
      "  --- --- --- --- ---\n",
      "B| O | X | X | X | O |\n",
      "  --- --- --- --- ---\n",
      "C| O | X |   | O |   |\n",
      "  --- --- --- --- ---\n",
      "D|   |   | X |   |   |\n",
      "  --- --- --- --- ---\n",
      "E|   |   |   | O | O |\n",
      "  --- --- --- --- ---\n",
      "Game Imcomplete\n",
      "Player 1's Turn\n"
     ]
    },
    {
     "name": "stdin",
     "output_type": "stream",
     "text": [
      "Enter A Spot:  c3\n"
     ]
    },
    {
     "name": "stdout",
     "output_type": "stream",
     "text": [
      "Spot Avaliable: Droping Player\n",
      "   1   2   3   4   5   \n",
      "  --- --- --- --- ---\n",
      "A| O | X | O | X | O |\n",
      "  --- --- --- --- ---\n",
      "B| O | X | X | X | O |\n",
      "  --- --- --- --- ---\n",
      "C| O | X | X | O |   |\n",
      "  --- --- --- --- ---\n",
      "D|   |   | X |   |   |\n",
      "  --- --- --- --- ---\n",
      "E|   |   |   | O | O |\n",
      "  --- --- --- --- ---\n",
      "Game Imcomplete\n",
      "Player 2's Turn\n"
     ]
    },
    {
     "name": "stdin",
     "output_type": "stream",
     "text": [
      "Enter A Spot:  c5\n"
     ]
    },
    {
     "name": "stdout",
     "output_type": "stream",
     "text": [
      "Spot Avaliable: Droping Player\n",
      "   1   2   3   4   5   \n",
      "  --- --- --- --- ---\n",
      "A| O | X | O | X | O |\n",
      "  --- --- --- --- ---\n",
      "B| O | X | X | X | O |\n",
      "  --- --- --- --- ---\n",
      "C| O | X | X | O | O |\n",
      "  --- --- --- --- ---\n",
      "D|   |   | X |   |   |\n",
      "  --- --- --- --- ---\n",
      "E|   |   |   | O | O |\n",
      "  --- --- --- --- ---\n",
      "Game Imcomplete\n",
      "Player 1's Turn\n"
     ]
    },
    {
     "name": "stdin",
     "output_type": "stream",
     "text": [
      "Enter A Spot:  d1\n"
     ]
    },
    {
     "name": "stdout",
     "output_type": "stream",
     "text": [
      "Spot Avaliable: Droping Player\n",
      "   1   2   3   4   5   \n",
      "  --- --- --- --- ---\n",
      "A| O | X | O | X | O |\n",
      "  --- --- --- --- ---\n",
      "B| O | X | X | X | O |\n",
      "  --- --- --- --- ---\n",
      "C| O | X | X | O | O |\n",
      "  --- --- --- --- ---\n",
      "D| X |   | X |   |   |\n",
      "  --- --- --- --- ---\n",
      "E|   |   |   | O | O |\n",
      "  --- --- --- --- ---\n",
      "Game Imcomplete\n",
      "Player 2's Turn\n"
     ]
    },
    {
     "name": "stdin",
     "output_type": "stream",
     "text": [
      "Enter A Spot:  d2\n"
     ]
    },
    {
     "name": "stdout",
     "output_type": "stream",
     "text": [
      "Spot Avaliable: Droping Player\n",
      "   1   2   3   4   5   \n",
      "  --- --- --- --- ---\n",
      "A| O | X | O | X | O |\n",
      "  --- --- --- --- ---\n",
      "B| O | X | X | X | O |\n",
      "  --- --- --- --- ---\n",
      "C| O | X | X | O | O |\n",
      "  --- --- --- --- ---\n",
      "D| X | O | X |   |   |\n",
      "  --- --- --- --- ---\n",
      "E|   |   |   | O | O |\n",
      "  --- --- --- --- ---\n",
      "Game Imcomplete\n",
      "Player 1's Turn\n"
     ]
    },
    {
     "name": "stdin",
     "output_type": "stream",
     "text": [
      "Enter A Spot:  d4\n"
     ]
    },
    {
     "name": "stdout",
     "output_type": "stream",
     "text": [
      "Spot Avaliable: Droping Player\n",
      "   1   2   3   4   5   \n",
      "  --- --- --- --- ---\n",
      "A| O | X | O | X | O |\n",
      "  --- --- --- --- ---\n",
      "B| O | X | X | X | O |\n",
      "  --- --- --- --- ---\n",
      "C| O | X | X | O | O |\n",
      "  --- --- --- --- ---\n",
      "D| X | O | X | X |   |\n",
      "  --- --- --- --- ---\n",
      "E|   |   |   | O | O |\n",
      "  --- --- --- --- ---\n",
      "Game Imcomplete\n",
      "Player 2's Turn\n"
     ]
    },
    {
     "name": "stdin",
     "output_type": "stream",
     "text": [
      "Enter A Spot:  d5\n"
     ]
    },
    {
     "name": "stdout",
     "output_type": "stream",
     "text": [
      "Spot Avaliable: Droping Player\n",
      "   1   2   3   4   5   \n",
      "  --- --- --- --- ---\n",
      "A| O | X | O | X | O |\n",
      "  --- --- --- --- ---\n",
      "B| O | X | X | X | O |\n",
      "  --- --- --- --- ---\n",
      "C| O | X | X | O | O |\n",
      "  --- --- --- --- ---\n",
      "D| X | O | X | X | O |\n",
      "  --- --- --- --- ---\n",
      "E|   |   |   | O | O |\n",
      "  --- --- --- --- ---\n",
      "Player 2 is Winner \n",
      "2\n"
     ]
    }
   ],
   "source": [
    "startGame(5)"
   ]
  },
  {
   "cell_type": "markdown",
   "metadata": {},
   "source": [
    "*Exercise 11:* (Advanced / Challenge) Develop a version of the game where one player is the computer. Note that you don't need to do an extensive seach for the best move. You can have the computer simply protect against loosing and otherwise try to win with straight or diagonal patterns."
   ]
  },
  {
   "cell_type": "code",
   "execution_count": null,
   "metadata": {
    "collapsed": true,
    "jupyter": {
     "outputs_hidden": true
    }
   },
   "outputs": [],
   "source": [
    "# Write you solution here"
   ]
  },
  {
   "cell_type": "code",
   "execution_count": null,
   "metadata": {
    "collapsed": true,
    "jupyter": {
     "outputs_hidden": true
    }
   },
   "outputs": [],
   "source": [
    "# Test your solution here"
   ]
  }
 ],
 "metadata": {
  "kernelspec": {
   "display_name": "Python 3 (ipykernel)",
   "language": "python",
   "name": "python3"
  },
  "language_info": {
   "codemirror_mode": {
    "name": "ipython",
    "version": 3
   },
   "file_extension": ".py",
   "mimetype": "text/x-python",
   "name": "python",
   "nbconvert_exporter": "python",
   "pygments_lexer": "ipython3",
   "version": "3.10.12"
  }
 },
 "nbformat": 4,
 "nbformat_minor": 4
}
