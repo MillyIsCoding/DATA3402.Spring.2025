{
 "cells": [
  {
   "cell_type": "markdown",
   "metadata": {},
   "source": [
    "# Lab 5\n"
   ]
  },
  {
   "cell_type": "markdown",
   "metadata": {},
   "source": [
    "Matrix Representation: In this lab you will be creating a simple linear algebra system. In memory, we will represent matrices as nested python lists as we have done in lecture. In the exercises below, you are required to explicitly test every feature you implement, demonstrating it works.\n",
    "\n",
    "1. Create a `matrix` class with the following properties:\n",
    "    * It can be initialized in 2 ways:\n",
    "        1. with arguments `n` and `m`, the size of the matrix. A newly instanciated matrix will contain all zeros.\n",
    "        2. with a list of lists of values. Note that since we are using lists of lists to implement matrices, it is possible that not all rows have the same number of columns. Test explicitly that the matrix is properly specified.\n",
    "    * Matrix instances `M` can be indexed with `M[i][j]` and `M[i,j]`.\n",
    "    * Matrix assignment works in 2 ways:\n",
    "        1. If `M_1` and `M_2` are `matrix` instances `M_1=M_2` sets the values of `M_1` to those of `M_2`, if they are the same size. Error otherwise.\n",
    "        2. In example above `M_2` can be a list of lists of correct size.\n"
   ]
  },
  {
   "cell_type": "code",
   "execution_count": null,
   "metadata": {},
   "outputs": [],
   "source": [
    "class Matrix:\n",
    "    def __init__(self,n,m=None,fill=0):\n",
    "        if isinstance(n, list):  # If initialized with a list of lists\n",
    "            if any(len(row) != len(n[0]) for row in n):\n",
    "                raise ValueError(\"All rows must have the same number of columns.\")\n",
    "            self.data = n\n",
    "        else:  # If initialized with dimensions (n, m)\n",
    "            self.data = [[fill] * m for _ in range(n)]\n",
    "        \n",
    "    def __setitem__(self, key, value):\n",
    "        if isinstance(key, tuple):  \n",
    "            i, j = key\n",
    "            self.data[i][j] = value\n",
    "        else:\n",
    "            self.data[key] = value \n",
    "            \n",
    "    def __repr__(self):\n",
    "        return \"\\n\".join(str(row) for row in self.data)\n",
    "    "
   ]
  },
  {
   "cell_type": "markdown",
   "metadata": {},
   "source": [
    "2. Add the following methods:\n",
    "    * `shape()`: returns a tuple `(n,m)` of the shape of the matrix.\n",
    "    * `transpose()`: returns a new matrix instance which is the transpose of the matrix.\n",
    "    * `row(n)` and `column(n)`: that return the nth row or column of the matrix M as a new appropriately shaped matrix object.\n",
    "    * `to_list()`: which returns the matrix as a list of lists.\n",
    "    *  `block(n_0,n_1,m_0,m_1)` that returns a smaller matrix located at the n_0 to n_1 columns and m_0 to m_1 rows. \n",
    "    * (Extra credit) Modify `__getitem__` implemented above to support slicing.\n",
    "        "
   ]
  },
  {
   "cell_type": "code",
   "execution_count": null,
   "metadata": {},
   "outputs": [],
   "source": [
    "class Matrix:\n",
    "    def __init__(self,n,m=None):\n",
    "        if isinstance(n, list):  # If initialized with a list of lists\n",
    "            if any(len(row) != len(n[0]) for row in n):\n",
    "                raise ValueError(\"All rows must have the same number of columns.\")\n",
    "            self.data = n\n",
    "        else:  # If initialized with dimensions (n, m)\n",
    "            self.data = [[0] * m for _ in range(n)]\n",
    "\n",
    "    def __getitem__(self, key):\n",
    "        if isinstance(key, tuple):  \n",
    "            i, j = key\n",
    "            return self.data[i][j]\n",
    "        return self.data[key] \n",
    "        \n",
    "    def __setitem__(self, key, value):\n",
    "        if isinstance(key, tuple):  \n",
    "            i, j = key\n",
    "            self.data[i][j] = value\n",
    "        else:\n",
    "            self.data[key] = value \n",
    "            \n",
    "    def shape(self):\n",
    "        return len(self.data), len(self.data[0])\n",
    "        \n",
    "    def transpose(self):\n",
    "        return Matrix([[self.data[j][i] for j in range(len(self.data))] for i in range(len(self.data[0]))])\n",
    "\n",
    "    def row(self, n):\n",
    "        return [self.data[n][i] for i in range(len(self.data[0]))]\n",
    "        \n",
    "    def col(self, n):\n",
    "        return [self.data[i][n] for i in range(len(self.data))]\n",
    "\n",
    "    def to_list(self):\n",
    "        return [row[:] for row in self.data]\n",
    "\n",
    "    def block(self,n_0,n_1,m_0,m_1):\n",
    "        return Matrix([row[m_0:m_1] for row in self.data[n_0:n_1]])\n",
    "        \n",
    "    def __repr__(self):\n",
    "        return \"\\n\".join(str(row) for row in self.data)\n",
    "    "
   ]
  },
  {
   "cell_type": "markdown",
   "metadata": {},
   "source": [
    "3. Write functions that create special matrices (note these are standalone functions, not member functions of your `matrix` class):\n",
    "    * `constant(n,m,c)`: returns a `n` by `m` matrix filled with floats of value `c`.\n",
    "    * `zeros(n,m)` and `ones(n,m)`: return `n` by `m` matrices filled with floats of value `0` and `1`, respectively.\n",
    "    * `eye(n)`: returns the n by n identity matrix."
   ]
  },
  {
   "cell_type": "code",
   "execution_count": 47,
   "metadata": {},
   "outputs": [],
   "source": [
    "def constant(n,m,c):\n",
    "    return Matrix([[c] * m for _ in range(n)])\n",
    "def zeros(n,m):\n",
    "    return Matrix(n,m)\n",
    "def ones(n,m):\n",
    "    return Matrix([[1] * m for _ in range(n)])\n",
    "def eye(n):\n",
    "    return Matrix([[1 if i == j else 0 for j in range(n)] for i in range(n)])"
   ]
  },
  {
   "cell_type": "markdown",
   "metadata": {},
   "source": [
    "4. Add the following member functions to your class. Make sure to appropriately test the dimensions of the matrices to make sure the operations are correct.\n",
    "    * `M.scalarmul(c)`: a matrix that is scalar product $cM$, where every element of $M$ is multiplied by $c$.\n",
    "    * `M.add(N)`: adds two matrices $M$ and $N$. Don’t forget to test that the sizes of the matrices are compatible for this and all other operations.\n",
    "    * `M.sub(N)`: subtracts two matrices $M$ and $N$.\n",
    "    * `M.mat_mult(N)`: returns a matrix that is the matrix product of two matrices $M$ and $N$.\n",
    "    * `M.element_mult(N)`: returns a matrix that is the element-wise product of two matrices $M$ and $N$.\n",
    "    * `M.equals(N)`: returns true/false if $M==N$."
   ]
  },
  {
   "cell_type": "code",
   "execution_count": 48,
   "metadata": {},
   "outputs": [],
   "source": [
    "class Matrix:\n",
    "    def __init__(self,n,m=None):\n",
    "        if isinstance(n, list):  # If initialized with a list of lists\n",
    "            if any(len(row) != len(n[0]) for row in n):\n",
    "                raise ValueError(\"All rows must have the same number of columns.\")\n",
    "            self.data = n\n",
    "        else:  # If initialized with dimensions (n, m)\n",
    "            self.data = [[0] * m for _ in range(n)]\n",
    "\n",
    "    def __getitem__(self, key):\n",
    "        if isinstance(key, tuple):  \n",
    "            i, j = key\n",
    "            return self.data[i][j]\n",
    "        return self.data[key] \n",
    "        \n",
    "    def __setitem__(self, key, value):\n",
    "        if isinstance(key, tuple):  \n",
    "            i, j = key\n",
    "            self.data[i][j] = value\n",
    "        else:\n",
    "            self.data[key] = value \n",
    "            \n",
    "    def shape(self):\n",
    "        return len(self.data), len(self.data[0])\n",
    "        \n",
    "    def transpose(self):\n",
    "        return Matrix([[self.data[j][i] for j in range(len(self.data))] for i in range(len(self.data[0]))])\n",
    "\n",
    "    def row(self, n):\n",
    "        return [self.data[n][i] for i in range(len(self.data[0]))]\n",
    "        \n",
    "    def col(self, n):\n",
    "        return [self.data[i][n] for i in range(len(self.data))]\n",
    "\n",
    "    def to_list(self):\n",
    "        return [row[:] for row in self.data]\n",
    "\n",
    "    def block(self,n_0,n_1,m_0,m_1):\n",
    "        return Matrix([row[m_0:m_1] for row in self.data[n_0:n_1]])\n",
    "\n",
    "    def scalarmul(self, c):\n",
    "        return Matrix([[c * self.data[i][j] for j in range(len(self.data[0]))] for i in range(len(self.data))])\n",
    "\n",
    "    def add(self, N):\n",
    "        if self.shape() != N.shape():\n",
    "            raise ValueError(\"Matrix dimensions must match for addition.\")\n",
    "        return Matrix([[self.data[i][j] + N[i, j] for j in range(len(self.data[0]))] for i in range(len(self.data))])\n",
    "\n",
    "    def sub(self, N):\n",
    "        if self.shape() != N.shape():\n",
    "            raise ValueError(\"Matrix dimensions must match for subtraction.\")\n",
    "        return Matrix([[self.data[i][j] - N[i, j] for j in range(len(self.data[0]))] for i in range(len(self.data))])\n",
    "\n",
    "    def mat_mult(self, N):\n",
    "        rows_A, cols_A = self.shape()\n",
    "        rows_B, cols_B = N.shape()\n",
    "\n",
    "        if cols_A != rows_B:\n",
    "            raise ValueError(\"Matrix dimensions must match for multiplication.\")\n",
    "\n",
    "        return Matrix([\n",
    "            [sum(self.data[i][k] * N[k, j] for k in range(cols_A)) for j in range(cols_B)] for i in range(rows_A)])\n",
    "\n",
    "    def element_mult(self, N):\n",
    "        if self.shape() != N.shape():\n",
    "            raise ValueError(\"Matrix dimensions must match for multiplication.\")\n",
    "        return Matrix([[self.data[i][j] * N[i, j] for j in range(len(self.data[0]))] for i in range(len(self.data))])\n",
    "\n",
    "    def equals(self, N):\n",
    "        return self.shape() == N.shape() and all(self.data[i][j] == N[i, j] for i in range(len(self.data)) for j in range(len(self.data[0])))\n",
    "    \n",
    "    def __repr__(self):\n",
    "        return \"\\n\".join(str(row) for row in self.data)\n",
    "    "
   ]
  },
  {
   "cell_type": "markdown",
   "metadata": {},
   "source": [
    "5. Overload python operators to appropriately use your functions in 4 and allow expressions like:\n",
    "    * 2*M\n",
    "    * M*2\n",
    "    * M+N\n",
    "    * M-N\n",
    "    * M*N\n",
    "    * M==N\n",
    "    * M=N\n"
   ]
  },
  {
   "cell_type": "code",
   "execution_count": 56,
   "metadata": {},
   "outputs": [],
   "source": [
    "def __add__(self, N):\n",
    "    return self.add(N)\n",
    "\n",
    "def __sub__(self, N):\n",
    "    return self.sub(N)\n",
    "\n",
    "def __mul__(self, other):\n",
    "    if isinstance(other, Matrix):\n",
    "        return self.mat_mult(other)\n",
    "    elif isinstance(other, (int, float)): \n",
    "        return self.scalarmul(other)\n",
    "    else:\n",
    "        raise TypeError(f\"Unsupported operand type(s) for *: 'Matrix' and '{type(other).__name__}'\")\n",
    "\n",
    "def __rmul__(self, other):\n",
    "    return self.__mul__(other)\n",
    "\n",
    "def __eq__(self, N):\n",
    "    return self.equals(N)\n",
    "\n",
    "def __ne__(self, N):\n",
    "    return not self.equals(N)\n",
    "\n",
    "def __set__(self, value):\n",
    "    raise ValueError(\"Cannot assign to a matrix directly using =, use .set() method instead.\")"
   ]
  },
  {
   "cell_type": "markdown",
   "metadata": {},
   "source": [
    "6. Demonstrate the basic properties of matrices with your matrix class by creating two 2 by 2 example matrices using your Matrix class and illustrating the following:\n",
    "\n",
    "$$\n",
    "(AB)C=A(BC)\n",
    "$$\n",
    "$$\n",
    "A(B+C)=AB+AC\n",
    "$$\n",
    "$$\n",
    "AB\\neq BA\n",
    "$$\n",
    "$$\n",
    "AI=A\n",
    "$$"
   ]
  },
  {
   "cell_type": "code",
   "execution_count": 62,
   "metadata": {},
   "outputs": [
    {
     "name": "stdout",
     "output_type": "stream",
     "text": [
      "[2, 2, 2, 2]\n",
      "[2, 2, 2, 2]\n",
      "[2, 2, 2, 2]\n",
      "[2, 2, 2, 2]\n",
      "[1, 1, 1, 1]\n",
      "[1, 1, 1, 1]\n",
      "[1, 1, 1, 1]\n",
      "[1, 1, 1, 1]\n",
      "[3, 3, 3, 3]\n",
      "[3, 3, 3, 3]\n",
      "[3, 3, 3, 3]\n",
      "[3, 3, 3, 3]\n"
     ]
    },
    {
     "ename": "TypeError",
     "evalue": "unsupported operand type(s) for +: 'Matrix' and 'Matrix'",
     "output_type": "error",
     "traceback": [
      "\u001b[0;31m---------------------------------------------------------------------------\u001b[0m",
      "\u001b[0;31mTypeError\u001b[0m                                 Traceback (most recent call last)",
      "Cell \u001b[0;32mIn[62], line 8\u001b[0m\n\u001b[1;32m      5\u001b[0m \u001b[38;5;28mprint\u001b[39m(B)\n\u001b[1;32m      6\u001b[0m \u001b[38;5;28mprint\u001b[39m(C)\n\u001b[0;32m----> 8\u001b[0m A1\u001b[38;5;241m=\u001b[39m(\u001b[43mA\u001b[49m\u001b[43m \u001b[49m\u001b[38;5;241;43m+\u001b[39;49m\u001b[43m \u001b[49m\u001b[43mB\u001b[49m)\u001b[38;5;241m*\u001b[39mC\n",
      "\u001b[0;31mTypeError\u001b[0m: unsupported operand type(s) for +: 'Matrix' and 'Matrix'"
     ]
    }
   ],
   "source": [
    "A = constant(4,4,2)\n",
    "B = ones(4,4)\n",
    "C = constant(4,4,3)\n",
    "print(A)\n",
    "print(B)\n",
    "print(C)\n",
    "\n",
    "A1=(A B)*C\n"
   ]
  },
  {
   "cell_type": "markdown",
   "metadata": {},
   "source": [
    "Quiz 2:\n",
    "\n",
    "Write a function make_deck that returns a list of all of the cards in a standard card deck. The return should be a list of tuples of pairs of suit and value. For example the 10 of Clubs would be ('Clubs', 10) and Queen of Hearts would be ('Hearts', 'Queen'). Recall that a deck has 52 cards, divided into 4 suits (Clubs, Diamonds, Hearts, and Spades), and that each suit has 13 cards: 2 to 10, Jack, Queen, King, and Ace. Summit your solution with Lab 5."
   ]
  },
  {
   "cell_type": "code",
   "execution_count": 42,
   "metadata": {},
   "outputs": [],
   "source": [
    "def make_deck():\n",
    "    deck = []\n",
    "    suits = ['Clubs','Diamond','Hearts','Spades']\n",
    "    face = ['Jack','Queen','King']\n",
    "    for i in range(len(suits)):\n",
    "        deck.append((\"Ace\",suits[i])) ##To Keep Ace At The Top of List\n",
    "        for j in range(2,12):\n",
    "            if j > 10:\n",
    "                deck.extend((face[n],suits[i]) for n in range(len(face)))\n",
    "            else:\n",
    "                deck.append((j,suits[i]))\n",
    "    return deck"
   ]
  },
  {
   "cell_type": "code",
   "execution_count": 46,
   "metadata": {},
   "outputs": [
    {
     "data": {
      "text/plain": [
       "[('Ace', 'Clubs'),\n",
       " (2, 'Clubs'),\n",
       " (3, 'Clubs'),\n",
       " (4, 'Clubs'),\n",
       " (5, 'Clubs'),\n",
       " (6, 'Clubs'),\n",
       " (7, 'Clubs'),\n",
       " (8, 'Clubs'),\n",
       " (9, 'Clubs'),\n",
       " (10, 'Clubs'),\n",
       " ('Jack', 'Clubs'),\n",
       " ('Queen', 'Clubs'),\n",
       " ('King', 'Clubs'),\n",
       " ('Ace', 'Diamond'),\n",
       " (2, 'Diamond'),\n",
       " (3, 'Diamond'),\n",
       " (4, 'Diamond'),\n",
       " (5, 'Diamond'),\n",
       " (6, 'Diamond'),\n",
       " (7, 'Diamond'),\n",
       " (8, 'Diamond'),\n",
       " (9, 'Diamond'),\n",
       " (10, 'Diamond'),\n",
       " ('Jack', 'Diamond'),\n",
       " ('Queen', 'Diamond'),\n",
       " ('King', 'Diamond'),\n",
       " ('Ace', 'Hearts'),\n",
       " (2, 'Hearts'),\n",
       " (3, 'Hearts'),\n",
       " (4, 'Hearts'),\n",
       " (5, 'Hearts'),\n",
       " (6, 'Hearts'),\n",
       " (7, 'Hearts'),\n",
       " (8, 'Hearts'),\n",
       " (9, 'Hearts'),\n",
       " (10, 'Hearts'),\n",
       " ('Jack', 'Hearts'),\n",
       " ('Queen', 'Hearts'),\n",
       " ('King', 'Hearts'),\n",
       " ('Ace', 'Spades'),\n",
       " (2, 'Spades'),\n",
       " (3, 'Spades'),\n",
       " (4, 'Spades'),\n",
       " (5, 'Spades'),\n",
       " (6, 'Spades'),\n",
       " (7, 'Spades'),\n",
       " (8, 'Spades'),\n",
       " (9, 'Spades'),\n",
       " (10, 'Spades'),\n",
       " ('Jack', 'Spades'),\n",
       " ('Queen', 'Spades'),\n",
       " ('King', 'Spades')]"
      ]
     },
     "execution_count": 46,
     "metadata": {},
     "output_type": "execute_result"
    }
   ],
   "source": [
    "deck = make_deck()\n",
    "deck"
   ]
  },
  {
   "cell_type": "code",
   "execution_count": null,
   "metadata": {},
   "outputs": [],
   "source": []
  }
 ],
 "metadata": {
  "kernelspec": {
   "display_name": "Python 3 (ipykernel)",
   "language": "python",
   "name": "python3"
  },
  "language_info": {
   "codemirror_mode": {
    "name": "ipython",
    "version": 3
   },
   "file_extension": ".py",
   "mimetype": "text/x-python",
   "name": "python",
   "nbconvert_exporter": "python",
   "pygments_lexer": "ipython3",
   "version": "3.10.12"
  }
 },
 "nbformat": 4,
 "nbformat_minor": 4
}
